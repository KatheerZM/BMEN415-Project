{
 "cells": [
  {
   "cell_type": "code",
   "execution_count": 1,
   "id": "03405d77",
   "metadata": {},
   "outputs": [],
   "source": [
    "# Imports for file and from sklearn\n",
    "\n",
    "import numpy as np\n",
    "import pandas as pd\n",
    "import matplotlib.pyplot as plt\n",
    "import seaborn as sns\n",
    "\n",
    "from sklearn.model_selection import train_test_split\n",
    "from sklearn.preprocessing import StandardScaler\n",
    "\n",
    "from sklearn.metrics import r2_score\n",
    "from sklearn.metrics import mean_squared_error\n",
    "from sklearn.metrics import mean_absolute_percentage_error"
   ]
  },
  {
   "cell_type": "code",
   "execution_count": 2,
   "id": "db742058",
   "metadata": {},
   "outputs": [],
   "source": [
    "#Reading, Splitting, and Setting data\n",
    "\n",
    "data = pd.read_csv(r'Volumetric_features.csv')\n",
    "\n",
    "X = data.iloc[0:1221,1:139] #X = prediction values\n",
    "y = data.iloc[0:1221,139] #y = target values\n",
    "\n",
    "#splits 25% data to test set\n",
    "xTrain, xTest, yTrain, yTest = train_test_split(X,y)\n",
    "\n",
    "sc = StandardScaler()\n",
    "xTrain = sc.fit_transform(xTrain) #fits training data to rest\n",
    "xTest = sc.transform(xTest) #scales data"
   ]
  },
  {
   "cell_type": "code",
   "execution_count": 3,
   "id": "d6328f50",
   "metadata": {},
   "outputs": [
    {
     "name": "stdout",
     "output_type": "stream",
     "text": [
      "R^2 score: 0.5171522291566206\n",
      "Mean Squared Error: 11.906346589227919\n",
      "Mean Absolute Percentage Error: 0.03335952326107433\n"
     ]
    }
   ],
   "source": [
    "# Linear Support Vector Machine Algorithm\n",
    "\n",
    "from sklearn.svm import LinearSVR\n",
    "from sklearn.pipeline import make_pipeline\n",
    "svm = make_pipeline(StandardScaler(), LinearSVR(random_state=0, tol=1e-3))\n",
    "svm.fit(xTrain, yTrain)\n",
    "yPred1 = svm.predict(xTest)\n",
    "\n",
    "print (\"R^2 score:\", r2_score(yTest, yPred1))\n",
    "print(\"Mean Squared Error:\", mean_squared_error(yTest, yPred1))\n",
    "print(\"Mean Absolute Percentage Error:\", mean_absolute_percentage_error(yTest, yPred1))"
   ]
  },
  {
   "cell_type": "code",
   "execution_count": 4,
   "id": "5137a5e2",
   "metadata": {},
   "outputs": [
    {
     "name": "stdout",
     "output_type": "stream",
     "text": [
      "R^2 score: 0.6110799819784438\n",
      "Mean Squared Error: 9.590220375182062\n",
      "Mean Absolute Percentage Error: 0.03120030692127497\n"
     ]
    }
   ],
   "source": [
    "# Stochastic Gradient Descent Algorithm\n",
    "\n",
    "from sklearn.linear_model import SGDRegressor\n",
    "from sklearn.pipeline import make_pipeline\n",
    "sgd = make_pipeline(StandardScaler(),SGDRegressor(max_iter=1000, tol=1e-3))\n",
    "sgd.fit(xTrain, yTrain)\n",
    "yPred2 = sgd.predict(xTest)\n",
    "\n",
    "print (\"R^2 score:\", r2_score(yTest, yPred2))\n",
    "print(\"Mean Squared Error:\", mean_squared_error(yTest, yPred2))\n",
    "print(\"Mean Absolute Percentage Error:\", mean_absolute_percentage_error(yTest, yPred2))"
   ]
  },
  {
   "cell_type": "code",
   "execution_count": 5,
   "id": "0cceaaf8",
   "metadata": {},
   "outputs": [
    {
     "name": "stdout",
     "output_type": "stream",
     "text": [
      "R^2 score: 0.6235421496616496\n",
      "Mean Squared Error: 9.282920856267122\n",
      "Mean Absolute Percentage Error: 0.030738640532137724\n"
     ]
    }
   ],
   "source": [
    "# Gaussian Process Regressor Algorithm\n",
    "\n",
    "from sklearn.gaussian_process import GaussianProcessRegressor\n",
    "from sklearn.gaussian_process.kernels import DotProduct, WhiteKernel\n",
    "kernel = DotProduct() + WhiteKernel()\n",
    "gpr = GaussianProcessRegressor(kernel=kernel,random_state=0).fit(xTrain, yTrain)\n",
    "yPred3 = gpr.predict(xTest)\n",
    "\n",
    "print (\"R^2 score:\", r2_score(yTest, yPred3))\n",
    "print(\"Mean Squared Error:\", mean_squared_error(yTest, yPred3))\n",
    "print(\"Mean Absolute Percentage Error:\", mean_absolute_percentage_error(yTest, yPred3))"
   ]
  }
 ],
 "metadata": {
  "kernelspec": {
   "display_name": "Python 3 (ipykernel)",
   "language": "python",
   "name": "python3"
  },
  "language_info": {
   "codemirror_mode": {
    "name": "ipython",
    "version": 3
   },
   "file_extension": ".py",
   "mimetype": "text/x-python",
   "name": "python",
   "nbconvert_exporter": "python",
   "pygments_lexer": "ipython3",
   "version": "3.9.7"
  }
 },
 "nbformat": 4,
 "nbformat_minor": 5
}
