{
 "cells": [
  {
   "cell_type": "code",
   "execution_count": 1,
   "id": "03405d77",
   "metadata": {},
   "outputs": [],
   "source": [
    "# Imports for file and from sklearn\n",
    "\n",
    "import numpy as np\n",
    "import pandas as pd\n",
    "import matplotlib.pyplot as plt\n",
    "import seaborn as sns\n",
    "from sklearn.feature_selection import SelectFromModel\n",
    "from sklearn.ensemble import ExtraTreesClassifier\n",
    "\n",
    "from sklearn.model_selection import train_test_split\n",
    "\n",
    "from sklearn import metrics\n",
    "from sklearn.metrics import confusion_matrix\n",
    "from sklearn import metrics\n",
    "from sklearn.metrics import classification_report"
   ]
  },
  {
   "cell_type": "code",
   "execution_count": 2,
   "id": "19022e8f",
   "metadata": {},
   "outputs": [],
   "source": [
    "#Reading, Splitting, and Setting data\n",
    "\n",
    "data = pd.read_csv('fetal_health.csv') #read csv file\n",
    "target = ['fetal_health']\n",
    "pred = list(set(list(data.columns)) - set(target)) #set predictions to all data minus the target\n",
    "data[pred] = data[pred]/data[pred].max()\n",
    "\n",
    "X = data[pred].values # X = prediction values\n",
    "y = data[target].values # y = target values\n",
    "\n",
    "#splits 25% data to test set\n",
    "xTrain, xTest, yTrain, yTest = train_test_split(X, y, test_size = 0.20, random_state = 42)"
   ]
  },
  {
   "cell_type": "code",
   "execution_count": 3,
   "id": "bdf3eb28",
   "metadata": {},
   "outputs": [
    {
     "name": "stderr",
     "output_type": "stream",
     "text": [
      "C:\\Users\\sayma\\AppData\\Local\\Temp/ipykernel_19032/3627454629.py:5: DataConversionWarning: A column-vector y was passed when a 1d array was expected. Please change the shape of y to (n_samples,), for example using ravel().\n",
      "  FeatureSelection = FeatureSelection.fit(X,y)\n"
     ]
    },
    {
     "data": {
      "text/plain": [
       "(2126, 10)"
      ]
     },
     "execution_count": 3,
     "metadata": {},
     "output_type": "execute_result"
    }
   ],
   "source": [
    "#Feature Selection \n",
    "\n",
    "X.shape\n",
    "FeatureSelection = ExtraTreesClassifier(n_estimators = 20)\n",
    "FeatureSelection = FeatureSelection.fit(X,y)\n",
    "FeatureSelection.feature_importances_\n",
    "TheModel = SelectFromModel(FeatureSelection,prefit = True)\n",
    "X_new = TheModel.transform(X)\n",
    "X_new.shape"
   ]
  },
  {
   "cell_type": "code",
   "execution_count": 4,
   "id": "d6328f50",
   "metadata": {},
   "outputs": [
    {
     "name": "stdout",
     "output_type": "stream",
     "text": [
      "Accuracy: 0.9061032863849765 \n",
      "\n",
      "Confusion Matrix \n",
      " [[317  11   5]\n",
      " [ 13  50   1]\n",
      " [  4   6  19]] \n",
      "\n",
      "Classification Report \n",
      "               precision    recall  f1-score   support\n",
      "\n",
      "         1.0       0.95      0.95      0.95       333\n",
      "         2.0       0.75      0.78      0.76        64\n",
      "         3.0       0.76      0.66      0.70        29\n",
      "\n",
      "    accuracy                           0.91       426\n",
      "   macro avg       0.82      0.80      0.81       426\n",
      "weighted avg       0.91      0.91      0.91       426\n",
      "\n"
     ]
    }
   ],
   "source": [
    "# Gradient Boosting Algorithm\n",
    "\n",
    "from sklearn.ensemble import GradientBoostingClassifier\n",
    "boost = GradientBoostingClassifier(n_estimators=100, learning_rate=1.0, max_depth=1, random_state=0)\n",
    "boost.fit(xTrain, yTrain[:,0])\n",
    "yPred1 = boost.predict(xTest)\n",
    "\n",
    "# Print Results\n",
    "print(\"Accuracy:\", metrics.accuracy_score(yTest, yPred1),\"\\n\")\n",
    "print(\"Confusion Matrix \\n\",confusion_matrix(yTest, yPred1),\"\\n\")\n",
    "print(\"Classification Report \\n\",classification_report(yTest, yPred1))"
   ]
  },
  {
   "cell_type": "code",
   "execution_count": 5,
   "id": "0ae41015",
   "metadata": {},
   "outputs": [
    {
     "name": "stdout",
     "output_type": "stream",
     "text": [
      "Accuracy: 0.9107981220657277 \n",
      "\n",
      "Confusion Matrix \n",
      " [[323   9   1]\n",
      " [ 16  44   4]\n",
      " [  4   4  21]]\n",
      "Classification Report \n",
      "               precision    recall  f1-score   support\n",
      "\n",
      "         1.0       0.94      0.97      0.96       333\n",
      "         2.0       0.77      0.69      0.73        64\n",
      "         3.0       0.81      0.72      0.76        29\n",
      "\n",
      "    accuracy                           0.91       426\n",
      "   macro avg       0.84      0.79      0.82       426\n",
      "weighted avg       0.91      0.91      0.91       426\n",
      "\n"
     ]
    }
   ],
   "source": [
    "# Nearest Neighbours Algorithm (n = 5)\n",
    "\n",
    "from sklearn.neighbors import KNeighborsClassifier\n",
    "knn = KNeighborsClassifier(n_neighbors = 5)\n",
    "knn.fit(xTrain, yTrain[:,0])\n",
    "yPred2 = knn.predict(xTest)\n",
    "\n",
    "# Print Results\n",
    "print(\"Accuracy:\", metrics.accuracy_score(yTest, yPred2),\"\\n\")\n",
    "print(\"Confusion Matrix \\n\",confusion_matrix(yTest, yPred2))\n",
    "print(\"Classification Report \\n\",classification_report(yTest, yPred2))"
   ]
  },
  {
   "cell_type": "code",
   "execution_count": 6,
   "id": "5137a5e2",
   "metadata": {},
   "outputs": [
    {
     "name": "stdout",
     "output_type": "stream",
     "text": [
      "Accuracy: 0.8708920187793427 \n",
      "\n",
      "Confusion Matrix \n",
      " [[326   4   3]\n",
      " [ 31  32   1]\n",
      " [  5  11  13]]\n",
      "Classification Report \n",
      "               precision    recall  f1-score   support\n",
      "\n",
      "         1.0       0.90      0.98      0.94       333\n",
      "         2.0       0.68      0.50      0.58        64\n",
      "         3.0       0.76      0.45      0.57        29\n",
      "\n",
      "    accuracy                           0.87       426\n",
      "   macro avg       0.78      0.64      0.69       426\n",
      "weighted avg       0.86      0.87      0.86       426\n",
      "\n"
     ]
    }
   ],
   "source": [
    "# Ridge Algorithm\n",
    "\n",
    "from sklearn.linear_model import RidgeClassifier\n",
    "ridge = RidgeClassifier()\n",
    "ridge.fit(xTrain, yTrain[:,0])\n",
    "yPred3 = ridge.predict(xTest)\n",
    "\n",
    "# Print Results\n",
    "print(\"Accuracy:\", metrics.accuracy_score(yTest, yPred3),\"\\n\")\n",
    "print(\"Confusion Matrix \\n\",confusion_matrix(yTest, yPred3))\n",
    "print(\"Classification Report \\n\",classification_report(yTest, yPred3))"
   ]
  },
  {
   "cell_type": "code",
   "execution_count": null,
   "id": "43c6529f",
   "metadata": {},
   "outputs": [],
   "source": []
  }
 ],
 "metadata": {
  "kernelspec": {
   "display_name": "Python 3 (ipykernel)",
   "language": "python",
   "name": "python3"
  },
  "language_info": {
   "codemirror_mode": {
    "name": "ipython",
    "version": 3
   },
   "file_extension": ".py",
   "mimetype": "text/x-python",
   "name": "python",
   "nbconvert_exporter": "python",
   "pygments_lexer": "ipython3",
   "version": "3.9.7"
  }
 },
 "nbformat": 4,
 "nbformat_minor": 5
}
