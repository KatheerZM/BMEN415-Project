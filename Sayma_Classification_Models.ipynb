{
 "cells": [
  {
   "cell_type": "code",
   "execution_count": 1,
   "id": "03405d77",
   "metadata": {},
   "outputs": [],
   "source": [
    "# Imports for file and from sklearn\n",
    "\n",
    "import numpy as np\n",
    "import pandas as pd\n",
    "import matplotlib.pyplot as plt\n",
    "import seaborn as sns\n",
    "\n",
    "from sklearn.model_selection import train_test_split\n",
    "\n",
    "from sklearn import metrics\n",
    "from sklearn.metrics import confusion_matrix\n",
    "from sklearn import metrics\n",
    "from sklearn.metrics import classification_report"
   ]
  },
  {
   "cell_type": "code",
   "execution_count": 2,
   "id": "19022e8f",
   "metadata": {},
   "outputs": [],
   "source": [
    "#Reading, Splitting, and Setting data\n",
    "\n",
    "data = pd.read_csv('fetal_health.csv') #read csv file\n",
    "target = ['fetal_health']\n",
    "pred = list(set(list(data.columns)) - set(target)) #set predictions to all data minus the target\n",
    "data[pred] = data[pred]/data[pred].max()\n",
    "\n",
    "X = data[pred].values #X = prediction values\n",
    "y = data[target].values #y = target values\n",
    "\n",
    "#splits 25% data to test set\n",
    "xTrain, xTest, yTrain, yTest = train_test_split(X, y, test_size = 0.25, random_state = 42)"
   ]
  },
  {
   "cell_type": "code",
   "execution_count": 3,
   "id": "d6328f50",
   "metadata": {},
   "outputs": [
    {
     "name": "stdout",
     "output_type": "stream",
     "text": [
      "Accuracy: 0.9078947368421053 \n",
      "\n",
      "Confusion Matrix \n",
      " [[392  16   5]\n",
      " [ 15  66   1]\n",
      " [  4   8  25]] \n",
      "\n",
      "Classification Report \n",
      "               precision    recall  f1-score   support\n",
      "\n",
      "         1.0       0.95      0.95      0.95       413\n",
      "         2.0       0.73      0.80      0.77        82\n",
      "         3.0       0.81      0.68      0.74        37\n",
      "\n",
      "    accuracy                           0.91       532\n",
      "   macro avg       0.83      0.81      0.82       532\n",
      "weighted avg       0.91      0.91      0.91       532\n",
      "\n"
     ]
    }
   ],
   "source": [
    "# Gradient Boosting Algorithm\n",
    "\n",
    "from sklearn.ensemble import GradientBoostingClassifier\n",
    "boost = GradientBoostingClassifier(n_estimators=100, learning_rate=1.0, max_depth=1, random_state=0)\n",
    "boost.fit(xTrain, yTrain[:,0])\n",
    "yPred1 = boost.predict(xTest)\n",
    "\n",
    "# Print Results\n",
    "print(\"Accuracy:\", metrics.accuracy_score(yTest, yPred1),\"\\n\")\n",
    "print(\"Confusion Matrix \\n\",confusion_matrix(yTest, yPred1),\"\\n\")\n",
    "print(\"Classification Report \\n\",classification_report(yTest, yPred1))"
   ]
  },
  {
   "cell_type": "code",
   "execution_count": 4,
   "id": "0ae41015",
   "metadata": {},
   "outputs": [
    {
     "name": "stdout",
     "output_type": "stream",
     "text": [
      "Accuracy: 0.9060150375939849 \n",
      "\n",
      "Confusion Matrix \n",
      " [[399  12   2]\n",
      " [ 19  56   7]\n",
      " [  6   4  27]]\n",
      "Classification Report \n",
      "               precision    recall  f1-score   support\n",
      "\n",
      "         1.0       0.94      0.97      0.95       413\n",
      "         2.0       0.78      0.68      0.73        82\n",
      "         3.0       0.75      0.73      0.74        37\n",
      "\n",
      "    accuracy                           0.91       532\n",
      "   macro avg       0.82      0.79      0.81       532\n",
      "weighted avg       0.90      0.91      0.90       532\n",
      "\n"
     ]
    }
   ],
   "source": [
    "# Nearest Neighbours Algorithm (n = 5)\n",
    "\n",
    "from sklearn.neighbors import KNeighborsClassifier\n",
    "knn = KNeighborsClassifier(n_neighbors = 5)\n",
    "knn.fit(xTrain, yTrain[:,0])\n",
    "yPred2 = knn.predict(xTest)\n",
    "\n",
    "# Print Results\n",
    "print(\"Accuracy:\", metrics.accuracy_score(yTest, yPred2),\"\\n\")\n",
    "print(\"Confusion Matrix \\n\",confusion_matrix(yTest, yPred2))\n",
    "print(\"Classification Report \\n\",classification_report(yTest, yPred2))"
   ]
  },
  {
   "cell_type": "code",
   "execution_count": 5,
   "id": "5137a5e2",
   "metadata": {},
   "outputs": [
    {
     "name": "stdout",
     "output_type": "stream",
     "text": [
      "Accuracy: 0.8778195488721805 \n",
      "\n",
      "Confusion Matrix \n",
      " [[404   6   3]\n",
      " [ 37  42   3]\n",
      " [  7   9  21]]\n",
      "Classification Report \n",
      "               precision    recall  f1-score   support\n",
      "\n",
      "         1.0       0.90      0.98      0.94       413\n",
      "         2.0       0.74      0.51      0.60        82\n",
      "         3.0       0.78      0.57      0.66        37\n",
      "\n",
      "    accuracy                           0.88       532\n",
      "   macro avg       0.81      0.69      0.73       532\n",
      "weighted avg       0.87      0.88      0.87       532\n",
      "\n"
     ]
    }
   ],
   "source": [
    "# Ridge Algorithm\n",
    "\n",
    "from sklearn.linear_model import RidgeClassifier\n",
    "ridge = RidgeClassifier()\n",
    "ridge.fit(xTrain, yTrain[:,0])\n",
    "yPred3 = ridge.predict(xTest)\n",
    "\n",
    "# Print Results\n",
    "print(\"Accuracy:\", metrics.accuracy_score(yTest, yPred3),\"\\n\")\n",
    "print(\"Confusion Matrix \\n\",confusion_matrix(yTest, yPred3))\n",
    "print(\"Classification Report \\n\",classification_report(yTest, yPred3))"
   ]
  },
  {
   "cell_type": "code",
   "execution_count": null,
   "id": "43c6529f",
   "metadata": {},
   "outputs": [],
   "source": []
  }
 ],
 "metadata": {
  "kernelspec": {
   "display_name": "Python 3 (ipykernel)",
   "language": "python",
   "name": "python3"
  },
  "language_info": {
   "codemirror_mode": {
    "name": "ipython",
    "version": 3
   },
   "file_extension": ".py",
   "mimetype": "text/x-python",
   "name": "python",
   "nbconvert_exporter": "python",
   "pygments_lexer": "ipython3",
   "version": "3.9.7"
  }
 },
 "nbformat": 4,
 "nbformat_minor": 5
}
