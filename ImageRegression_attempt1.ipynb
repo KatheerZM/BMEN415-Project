{
 "cells": [
  {
   "cell_type": "code",
   "execution_count": 13,
   "metadata": {},
   "outputs": [],
   "source": [
    "import matplotlib.pyplot as plt\n",
    "import numpy as np\n",
    "import os\n",
    "import PIL\n",
    "import tensorflow as tf\n",
    "from tensorflow.keras.datasets import mnist\n",
    "from tensorflow.keras import models\n",
    "\n",
    "\n",
    "from tensorflow import keras\n",
    "from tensorflow.keras import layers\n",
    "from tensorflow.keras.models import Sequential\n",
    "from tensorflow.keras.optimizers import Adam\n"
   ]
  },
  {
   "cell_type": "code",
   "execution_count": 14,
   "metadata": {},
   "outputs": [
    {
     "name": "stdout",
     "output_type": "stream",
     "text": [
      "Found 2131 files belonging to 4 classes.\n",
      "Found 2131 files belonging to 4 classes.\n",
      "Using 1705 files for training.\n",
      "Found 2131 files belonging to 4 classes.\n",
      "Using 426 files for validation.\n"
     ]
    }
   ],
   "source": [
    "#directory = \"/Users/abhar/Downloads/face_age/face_age_image\" \n",
    "\n",
    "directory = \"/Users/abhar/Downloads/practice_imageset\" #practice data set\n",
    "\n",
    "dataset = tf.keras.utils.image_dataset_from_directory(\n",
    "        directory,\n",
    "        labels=\"inferred\",\n",
    "        label_mode=\"int\",\n",
    "        class_names=None,\n",
    "        color_mode=\"rgb\",\n",
    "        batch_size=16,\n",
    "        image_size=(200, 200),\n",
    "\n",
    ")\n",
    "\n",
    "train_ds = tf.keras.utils.image_dataset_from_directory(directory,validation_split=0.2,subset=\"training\",seed = 42)\n",
    "validation_ds = tf.keras.utils.image_dataset_from_directory(directory,validation_split=0.2,subset=\"validation\",seed = 42)\n",
    "\n",
    "#testx_ds = tf.keras.utils.image_dataset_from_directory(directory,validation_split=0.3,subset=\"validation\",seed = 42)\n",
    "#testy_ds = tf.keras.utils.image_dataset_from_directory(directory,validation_split=0.3,subset=\"validation\",seed = 42)\n",
    "#print(dataset)\n",
    "\n",
    "#for i in dataset:\n",
    "    #print(i)\n",
    "\n",
    "num_classes = 4"
   ]
  },
  {
   "cell_type": "code",
   "execution_count": 19,
   "metadata": {},
   "outputs": [
    {
     "name": "stdout",
     "output_type": "stream",
     "text": [
      "Model: \"sequential_3\"\n",
      "_________________________________________________________________\n",
      "Layer (type)                 Output Shape              Param #   \n",
      "=================================================================\n",
      "conv2d_9 (Conv2D)            (None, 256, 256, 25)      1900      \n",
      "_________________________________________________________________\n",
      "max_pooling2d_9 (MaxPooling2 (None, 128, 128, 25)      0         \n",
      "_________________________________________________________________\n",
      "conv2d_10 (Conv2D)           (None, 64, 64, 50)        31300     \n",
      "_________________________________________________________________\n",
      "max_pooling2d_10 (MaxPooling (None, 32, 32, 50)        0         \n",
      "_________________________________________________________________\n",
      "batch_normalization_6 (Batch (None, 32, 32, 50)        200       \n",
      "_________________________________________________________________\n",
      "conv2d_11 (Conv2D)           (None, 16, 16, 70)        31570     \n",
      "_________________________________________________________________\n",
      "max_pooling2d_11 (MaxPooling (None, 8, 8, 70)          0         \n",
      "_________________________________________________________________\n",
      "batch_normalization_7 (Batch (None, 8, 8, 70)          280       \n",
      "_________________________________________________________________\n",
      "flatten_3 (Flatten)          (None, 4480)              0         \n",
      "_________________________________________________________________\n",
      "dense_9 (Dense)              (None, 4)                 17924     \n",
      "_________________________________________________________________\n",
      "dense_10 (Dense)             (None, 4)                 20        \n",
      "_________________________________________________________________\n",
      "dropout_3 (Dropout)          (None, 4)                 0         \n",
      "_________________________________________________________________\n",
      "dense_11 (Dense)             (None, 4)                 20        \n",
      "=================================================================\n",
      "Total params: 83,214\n",
      "Trainable params: 82,974\n",
      "Non-trainable params: 240\n",
      "_________________________________________________________________\n",
      "[INFO] training model...\n",
      "Epoch 1/10\n"
     ]
    },
    {
     "name": "stderr",
     "output_type": "stream",
     "text": [
      "C:\\Users\\abhar\\AppData\\Local\\Programs\\Python\\Python36\\lib\\site-packages\\keras\\backend.py:4907: UserWarning: \"`sparse_categorical_crossentropy` received `from_logits=True`, but the `output` argument was produced by a sigmoid or softmax activation and thus does not represent logits. Was this intended?\"\n",
      "  '\"`sparse_categorical_crossentropy` received `from_logits=True`, but '\n"
     ]
    },
    {
     "name": "stdout",
     "output_type": "stream",
     "text": [
      "54/54 [==============================] - 220s 4s/step - loss: 1.2795 - accuracy: 0.5097 - val_loss: 2.0805 - val_accuracy: 0.3873\n",
      "Epoch 2/10\n",
      "54/54 [==============================] - 148s 3s/step - loss: 1.2096 - accuracy: 0.5337 - val_loss: 1.4726 - val_accuracy: 0.2981\n",
      "Epoch 3/10\n",
      "54/54 [==============================] - 146s 3s/step - loss: 1.1637 - accuracy: 0.5343 - val_loss: 1.3065 - val_accuracy: 0.3967\n",
      "Epoch 4/10\n",
      "54/54 [==============================] - 179s 3s/step - loss: 1.1583 - accuracy: 0.5343 - val_loss: 2.1654 - val_accuracy: 0.4836\n",
      "Epoch 5/10\n",
      "54/54 [==============================] - 189s 3s/step - loss: 1.1247 - accuracy: 0.5337 - val_loss: 1.1849 - val_accuracy: 0.4648\n",
      "Epoch 6/10\n",
      "54/54 [==============================] - 176s 3s/step - loss: 1.0930 - accuracy: 0.5343 - val_loss: 1.1253 - val_accuracy: 0.4718\n",
      "Epoch 7/10\n",
      "54/54 [==============================] - 157s 3s/step - loss: 1.0843 - accuracy: 0.5343 - val_loss: 1.1338 - val_accuracy: 0.4718\n",
      "Epoch 8/10\n",
      "54/54 [==============================] - 136s 2s/step - loss: 1.0553 - accuracy: 0.5343 - val_loss: 1.2164 - val_accuracy: 0.4718\n",
      "Epoch 9/10\n",
      "54/54 [==============================] - 126s 2s/step - loss: 1.0409 - accuracy: 0.5343 - val_loss: 1.1047 - val_accuracy: 0.4718\n",
      "Epoch 10/10\n",
      "54/54 [==============================] - 124s 2s/step - loss: 1.0274 - accuracy: 0.5343 - val_loss: 1.1555 - val_accuracy: 0.4718\n"
     ]
    }
   ],
   "source": [
    "#Make model\n",
    "model = Sequential()\n",
    "model.add(layers.InputLayer(input_shape=(256, 256, 3)))\n",
    "\n",
    "# 1st conv block\n",
    "model.add(layers.Conv2D(25, (5, 5), activation='relu', strides=(1, 1), padding='same'))\n",
    "model.add(layers.MaxPool2D(pool_size=(2, 2), padding='same'))\n",
    "# 2nd conv block\n",
    "model.add(layers.Conv2D(50, (5, 5), activation='relu', strides=(2, 2), padding='same'))\n",
    "model.add(layers.MaxPool2D(pool_size=(2, 2), padding='same'))\n",
    "model.add(layers.BatchNormalization())\n",
    "# 3rd conv block\n",
    "model.add(layers.Conv2D(70, (3, 3), activation='relu', strides=(2, 2), padding='same'))\n",
    "model.add(layers.MaxPool2D(pool_size=(2, 2), padding='valid'))\n",
    "model.add(layers.BatchNormalization())\n",
    "# ANN block\n",
    "model.add(layers.Flatten())\n",
    "model.add(layers.Dense(units=num_classes, activation='relu'))\n",
    "model.add(layers.Dense(units=num_classes, activation='relu'))\n",
    "model.add(layers.Dropout(0.25))\n",
    "# output layer\n",
    "model.add(layers.Dense(units=num_classes, activation='softmax'))\n",
    "model.summary()\n",
    "\n",
    "opt = Adam(learning_rate=1e-3, decay=1e-3 / 200)\n",
    "model.compile(optimizer='adam',loss=\"sparse_categorical_crossentropy\",metrics=['accuracy'])\n",
    "\n",
    "# train the model\n",
    "print(\"[INFO] training model...\")\n",
    "im_model = model.fit(train_ds,epochs=10,validation_data=validation_ds,batch_size=8)"
   ]
  },
  {
   "cell_type": "markdown",
   "metadata": {},
   "source": []
  }
 ],
 "metadata": {
  "interpreter": {
   "hash": "c2ab331ed9f1f7150fb7ff71f78d22457345ce6bc704fab419f086a2a4dd6854"
  },
  "kernelspec": {
   "display_name": "Python 3.6.8 64-bit",
   "language": "python",
   "name": "python3"
  },
  "language_info": {
   "codemirror_mode": {
    "name": "ipython",
    "version": 3
   },
   "file_extension": ".py",
   "mimetype": "text/x-python",
   "name": "python",
   "nbconvert_exporter": "python",
   "pygments_lexer": "ipython3",
   "version": "3.6.8"
  },
  "orig_nbformat": 4
 },
 "nbformat": 4,
 "nbformat_minor": 2
}
