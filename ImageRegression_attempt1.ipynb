{
 "cells": [
  {
   "cell_type": "code",
   "execution_count": 1,
   "metadata": {},
   "outputs": [],
   "source": [
    "import matplotlib.pyplot as plt\n",
    "import numpy as np\n",
    "import os\n",
    "import PIL\n",
    "import tensorflow as tf\n",
    "from tensorflow.keras.datasets import mnist\n",
    "from tensorflow.keras import models\n",
    "\n",
    "\n",
    "from tensorflow import keras\n",
    "from tensorflow.keras import layers\n",
    "from tensorflow.keras.models import Sequential\n",
    "from tensorflow.keras.optimizers import Adam\n",
    "import seaborn as sns\n"
   ]
  },
  {
   "cell_type": "code",
   "execution_count": 2,
   "metadata": {},
   "outputs": [
    {
     "name": "stdout",
     "output_type": "stream",
     "text": [
      "Found 4549 files belonging to 41 classes.\n"
     ]
    }
   ],
   "source": [
    "directory = \"./face_age/face_age_image\" \n",
    "\n",
    "image_size = (200, 200)\n",
    "batch_size = 16\n",
    "validation_split = 0.2\n",
    "seed = 42\n",
    "\n",
    "dataset = tf.keras.preprocessing.image_dataset_from_directory(\n",
    "    directory,\n",
    "    seed=seed,\n",
    "    image_size=image_size,\n",
    "    labels=\"inferred\",\n",
    "    shuffle=True,\n",
    ")"
   ]
  },
  {
   "cell_type": "code",
   "execution_count": 3,
   "metadata": {},
   "outputs": [
    {
     "data": {
      "image/png": "[encoded data removed]",
      "text/plain": [
       "<Figure size 1080x720 with 1 Axes>"
      ]
     },
     "metadata": {},
     "output_type": "display_data"
    }
   ],
   "source": [
    "sns.set(rc={\"figure.figsize\":(15, 10)})\n",
    "\n",
    "sns.histplot(x=np.concatenate([y for x, y in dataset], axis=0))\n",
    "plt.show()"
   ]
  },
  {
   "cell_type": "code",
   "execution_count": 4,
   "metadata": {},
   "outputs": [
    {
     "name": "stdout",
     "output_type": "stream",
     "text": [
      "[[0, 1, 2, 3, 4, 5, 6, 7], [8, 9, 10, 11, 12, 13, 14, 15], [16, 17, 18, 19, 20, 21], [22, 23, 24, 25, 26, 27, 28, 29, 30], [31, 32, 33, 34, 35, 36, 37, 38, 39, 40]]\n",
      "5\n"
     ]
    }
   ],
   "source": [
    "labels = np.concatenate([y for x, y in dataset], axis=0)\n",
    "hist = {}\n",
    "for label in labels:\n",
    "    if not label in hist.keys():\n",
    "        hist[label] = 1\n",
    "    else:\n",
    "        hist[label] += 1\n",
    "h = [(k,v) for k,v in hist.items()]\n",
    "h.sort(key=lambda x: x[0])\n",
    "target = 900\n",
    "bin = 0\n",
    "goal =[]\n",
    "l = []\n",
    "for a,b in h:\n",
    "    bin += b\n",
    "    l.append(a)\n",
    "    if bin > target:\n",
    "        goal.append(l)\n",
    "        bin = 0\n",
    "        l = []\n",
    "goal.append(l)\n",
    "print(goal)\n",
    "print(len(goal))\n",
    "num_classes = len(goal)"
   ]
  },
  {
   "cell_type": "code",
   "execution_count": 5,
   "metadata": {},
   "outputs": [
    {
     "data": {
      "image/png": "[encoded data removed]",
      "text/plain": [
       "<Figure size 1080x720 with 1 Axes>"
      ]
     },
     "metadata": {},
     "output_type": "display_data"
    },
    {
     "name": "stdout",
     "output_type": "stream",
     "text": [
      "(4549, 5)\n"
     ]
    }
   ],
   "source": [
    "assign = {}\n",
    "for idx, x in enumerate(goal):\n",
    "    for y in x:\n",
    "        assign[y] = idx\n",
    "new_labels = []\n",
    "for label in labels:\n",
    "    new_labels.append(assign[label])\n",
    "sns.histplot(x=new_labels)\n",
    "plt.show()\n",
    "new_labels = np.asarray(new_labels)\n",
    "cat_labels = np.zeros((new_labels.size, new_labels.max()+1))\n",
    "cat_labels[np.arange(new_labels.size), new_labels] = 1\n",
    "print(cat_labels.shape)"
   ]
  },
  {
   "cell_type": "code",
   "execution_count": 6,
   "metadata": {},
   "outputs": [
    {
     "name": "stdout",
     "output_type": "stream",
     "text": [
      "Found 4549 files belonging to 41 classes.\n",
      "Using 3640 files for training.\n",
      "Found 4549 files belonging to 41 classes.\n",
      "Using 909 files for validation.\n"
     ]
    }
   ],
   "source": [
    "train_ds = tf.keras.preprocessing.image_dataset_from_directory(\n",
    "    directory,\n",
    "    validation_split=validation_split,\n",
    "    subset='training',\n",
    "    seed=seed,\n",
    "    image_size=image_size,\n",
    "    batch_size=batch_size,\n",
    "    labels=cat_labels.tolist(),\n",
    "    shuffle=True,\n",
    ")\n",
    "val_ds = tf.keras.preprocessing.image_dataset_from_directory(\n",
    "    directory,\n",
    "    validation_split=validation_split,\n",
    "    subset='validation',\n",
    "    seed=seed,\n",
    "    image_size=image_size,\n",
    "    batch_size=batch_size,\n",
    "    labels=cat_labels.tolist(),\n",
    "    shuffle=True,\n",
    ")"
   ]
  },
  {
   "cell_type": "code",
   "execution_count": 11,
   "metadata": {},
   "outputs": [
    {
     "name": "stdout",
     "output_type": "stream",
     "text": [
      "Model: \"sequential_4\"\n",
      "_________________________________________________________________\n",
      " Layer (type)                Output Shape              Param #   \n",
      "=================================================================\n",
      " conv2d_12 (Conv2D)          (None, 200, 200, 25)      1900      \n",
      "                                                                 \n",
      " max_pooling2d_12 (MaxPoolin  (None, 100, 100, 25)     0         \n",
      " g2D)                                                            \n",
      "                                                                 \n",
      " conv2d_13 (Conv2D)          (None, 50, 50, 50)        31300     \n",
      "                                                                 \n",
      " max_pooling2d_13 (MaxPoolin  (None, 25, 25, 50)       0         \n",
      " g2D)                                                            \n",
      "                                                                 \n",
      " batch_normalization_8 (Batc  (None, 25, 25, 50)       200       \n",
      " hNormalization)                                                 \n",
      "                                                                 \n",
      " conv2d_14 (Conv2D)          (None, 13, 13, 70)        31570     \n",
      "                                                                 \n",
      " max_pooling2d_14 (MaxPoolin  (None, 6, 6, 70)         0         \n",
      " g2D)                                                            \n",
      "                                                                 \n",
      " batch_normalization_9 (Batc  (None, 6, 6, 70)         280       \n",
      " hNormalization)                                                 \n",
      "                                                                 \n",
      " flatten_4 (Flatten)         (None, 2520)              0         \n",
      "                                                                 \n",
      " dense_12 (Dense)            (None, 32)                80672     \n",
      "                                                                 \n",
      " dense_13 (Dense)            (None, 16)                528       \n",
      "                                                                 \n",
      " dropout_4 (Dropout)         (None, 16)                0         \n",
      "                                                                 \n",
      " dense_14 (Dense)            (None, 5)                 85        \n",
      "                                                                 \n",
      "=================================================================\n",
      "Total params: 146,535\n",
      "Trainable params: 146,295\n",
      "Non-trainable params: 240\n",
      "_________________________________________________________________\n",
      "Epoch 1/10\n",
      "228/228 [==============================] - 4s 13ms/step - loss: 1.6590 - accuracy: 0.2250 - val_loss: 1.6106 - val_accuracy: 0.2134\n",
      "Epoch 2/10\n",
      "228/228 [==============================] - 3s 12ms/step - loss: 1.6071 - accuracy: 0.2247 - val_loss: 1.6166 - val_accuracy: 0.2145\n",
      "Epoch 3/10\n",
      "228/228 [==============================] - 3s 12ms/step - loss: 1.6041 - accuracy: 0.2352 - val_loss: 1.6279 - val_accuracy: 0.2475\n",
      "Epoch 4/10\n",
      "228/228 [==============================] - 3s 12ms/step - loss: 1.5957 - accuracy: 0.2316 - val_loss: 1.6153 - val_accuracy: 0.2365\n",
      "Epoch 5/10\n",
      "228/228 [==============================] - 3s 12ms/step - loss: 1.5905 - accuracy: 0.2448 - val_loss: 1.6258 - val_accuracy: 0.2398\n",
      "Epoch 6/10\n",
      "228/228 [==============================] - 3s 12ms/step - loss: 1.5911 - accuracy: 0.2456 - val_loss: 1.6161 - val_accuracy: 0.2090\n",
      "Epoch 7/10\n",
      "228/228 [==============================] - 3s 12ms/step - loss: 1.5865 - accuracy: 0.2456 - val_loss: 1.6373 - val_accuracy: 0.2134\n",
      "Epoch 8/10\n",
      "228/228 [==============================] - 3s 12ms/step - loss: 1.5850 - accuracy: 0.2514 - val_loss: 1.6413 - val_accuracy: 0.2112\n",
      "Epoch 9/10\n",
      "228/228 [==============================] - 3s 12ms/step - loss: 1.5786 - accuracy: 0.2536 - val_loss: 1.6122 - val_accuracy: 0.2233\n",
      "Epoch 10/10\n",
      "228/228 [==============================] - 3s 12ms/step - loss: 1.5726 - accuracy: 0.2615 - val_loss: 1.6462 - val_accuracy: 0.2321\n"
     ]
    },
    {
     "data": {
      "text/plain": [
       "<keras.callbacks.History at 0x1ed4044fd60>"
      ]
     },
     "execution_count": 11,
     "metadata": {},
     "output_type": "execute_result"
    }
   ],
   "source": [
    "model = Sequential()\n",
    "model.add(layers.InputLayer(input_shape=(200, 200, 3)))\n",
    "\n",
    "# 1st conv block\n",
    "model.add(layers.Conv2D(25, (5, 5), activation='relu', strides=(1, 1), padding='same'))\n",
    "model.add(layers.MaxPool2D(pool_size=(2, 2), padding='same'))\n",
    "# 2nd conv block\n",
    "model.add(layers.Conv2D(50, (5, 5), activation='relu', strides=(2, 2), padding='same'))\n",
    "model.add(layers.MaxPool2D(pool_size=(2, 2), padding='same'))\n",
    "model.add(layers.BatchNormalization())\n",
    "# 3rd conv block\n",
    "model.add(layers.Conv2D(70, (3, 3), activation='relu', strides=(2, 2), padding='same'))\n",
    "model.add(layers.MaxPool2D(pool_size=(2, 2), padding='valid'))\n",
    "model.add(layers.BatchNormalization())\n",
    "# ANN block\n",
    "model.add(layers.Flatten())\n",
    "model.add(layers.Dense(units=32, activation='relu'))\n",
    "model.add(layers.Dense(units=16, activation='relu'))\n",
    "model.add(layers.Dropout(0.25))\n",
    "# output layer\n",
    "model.add(layers.Dense(units=5, activation='softmax'))\n",
    "model.summary()\n",
    "\n",
    "model.compile(optimizer='adamax',loss='categorical_crossentropy',metrics=['accuracy'])\n",
    "\n",
    "# train the model\n",
    "model.fit(train_ds,epochs=10,validation_data=val_ds)"
   ]
  },
  {
   "cell_type": "code",
   "execution_count": 12,
   "metadata": {},
   "outputs": [],
   "source": [
    "prediction = model.predict(val_ds)\n",
    "prediction = prediction.argmax(axis=1)"
   ]
  },
  {
   "cell_type": "code",
   "execution_count": 15,
   "metadata": {},
   "outputs": [],
   "source": [
    "val_labels = np.concatenate([y for x, y in val_ds], axis=0).argmax(axis=1)"
   ]
  },
  {
   "cell_type": "code",
   "execution_count": 16,
   "metadata": {},
   "outputs": [
    {
     "name": "stdout",
     "output_type": "stream",
     "text": [
      "(909,)\n",
      "(909,)\n"
     ]
    }
   ],
   "source": [
    "print(prediction.shape)\n",
    "print(val_labels.shape)"
   ]
  },
  {
   "cell_type": "code",
   "execution_count": 17,
   "metadata": {},
   "outputs": [
    {
     "data": {
      "image/png": "[encoded data removed]",
      "text/plain": [
       "<Figure size 1080x720 with 1 Axes>"
      ]
     },
     "metadata": {},
     "output_type": "display_data"
    },
    {
     "data": {
      "image/png": "[encoded data removed]",
      "text/plain": [
       "<Figure size 1080x720 with 1 Axes>"
      ]
     },
     "metadata": {},
     "output_type": "display_data"
    }
   ],
   "source": [
    "from scipy.stats import gaussian_kde\n",
    "\n",
    "sns.scatterplot(x=prediction, y=val_labels)\n",
    "\n",
    "XY = np.vstack([prediction, val_labels])\n",
    "z = gaussian_kde(XY)(XY)\n",
    "fig, ax = plt.subplots()\n",
    "ax.scatter(x=prediction, y=val_labels, c=z, s=100)\n",
    "plt.show()"
   ]
  },
  {
   "cell_type": "code",
   "execution_count": null,
   "metadata": {},
   "outputs": [],
   "source": []
  }
 ],
 "metadata": {
  "interpreter": {
   "hash": "c2ab331ed9f1f7150fb7ff71f78d22457345ce6bc704fab419f086a2a4dd6854"
  },
  "kernelspec": {
   "display_name": "Python 3 (ipykernel)",
   "language": "python",
   "name": "python3"
  },
  "language_info": {
   "codemirror_mode": {
    "name": "ipython",
    "version": 3
   },
   "file_extension": ".py",
   "mimetype": "text/x-python",
   "name": "python",
   "nbconvert_exporter": "python",
   "pygments_lexer": "ipython3",
   "version": "3.9.7"
  }
 },
 "nbformat": 4,
 "nbformat_minor": 4
}
