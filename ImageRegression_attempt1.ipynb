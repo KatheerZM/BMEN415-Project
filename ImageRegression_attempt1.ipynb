{
 "cells": [
  {
   "cell_type": "code",
   "execution_count": 1,
   "metadata": {},
   "outputs": [],
   "source": [
    "import matplotlib.pyplot as plt\n",
    "import numpy as np\n",
    "import os\n",
    "import PIL\n",
    "import tensorflow as tf\n",
    "from tensorflow.keras.datasets import mnist\n",
    "from tensorflow.keras import models\n",
    "\n",
    "\n",
    "from tensorflow import keras\n",
    "from tensorflow.keras import layers\n",
    "from tensorflow.keras.models import Sequential\n",
    "from tensorflow.keras.optimizers import Adam\n",
    "import seaborn as sns\n"
   ]
  },
  {
   "cell_type": "code",
   "execution_count": 2,
   "metadata": {},
   "outputs": [
    {
     "name": "stdout",
     "output_type": "stream",
     "text": [
      "Found 4549 files belonging to 41 classes.\n"
     ]
    }
   ],
   "source": [
    "directory = \"./face_age/face_age_image\" \n",
    "\n",
    "image_size = (200, 200)\n",
    "batch_size = 16\n",
    "validation_split = 0.2\n",
    "seed = 42\n",
    "\n",
    "dataset = tf.keras.preprocessing.image_dataset_from_directory(\n",
    "    directory,\n",
    "    seed=seed,\n",
    "    image_size=image_size,\n",
    "    labels=\"inferred\",\n",
    "    shuffle=True,\n",
    ")"
   ]
  },
  {
   "cell_type": "code",
   "execution_count": 3,
   "metadata": {},
   "outputs": [
    {
     "data": {
      "image/png": "[encoded data removed]",
      "text/plain": [
       "<Figure size 1080x720 with 1 Axes>"
      ]
     },
     "metadata": {},
     "output_type": "display_data"
    }
   ],
   "source": [
    "sns.set(rc={\"figure.figsize\":(15, 10)})\n",
    "\n",
    "sns.histplot(x=np.concatenate([y for x, y in dataset], axis=0))\n",
    "plt.show()"
   ]
  },
  {
   "cell_type": "code",
   "execution_count": 4,
   "metadata": {},
   "outputs": [
    {
     "name": "stdout",
     "output_type": "stream",
     "text": [
      "[[0, 1, 2, 3, 4, 5, 6, 7], [8, 9, 10, 11, 12, 13, 14, 15], [16, 17, 18, 19, 20, 21], [22, 23, 24, 25, 26, 27, 28, 29, 30], [31, 32, 33, 34, 35, 36, 37, 38, 39, 40]]\n",
      "5\n"
     ]
    }
   ],
   "source": [
    "labels = np.concatenate([y for x, y in dataset], axis=0)\n",
    "hist = {}\n",
    "for label in labels:\n",
    "    if not label in hist.keys():\n",
    "        hist[label] = 1\n",
    "    else:\n",
    "        hist[label] += 1\n",
    "h = [(k,v) for k,v in hist.items()]\n",
    "h.sort(key=lambda x: x[0])\n",
    "target = 900\n",
    "bin = 0\n",
    "goal =[]\n",
    "l = []\n",
    "for a,b in h:\n",
    "    bin += b\n",
    "    l.append(a)\n",
    "    if bin > target:\n",
    "        goal.append(l)\n",
    "        bin = 0\n",
    "        l = []\n",
    "goal.append(l)\n",
    "print(goal)\n",
    "print(len(goal))\n",
    "num_classes = len(goal)"
   ]
  },
  {
   "cell_type": "code",
   "execution_count": 5,
   "metadata": {},
   "outputs": [
    {
     "data": {
      "image/png": "[encoded data removed]",
      "text/plain": [
       "<Figure size 1080x720 with 1 Axes>"
      ]
     },
     "metadata": {},
     "output_type": "display_data"
    }
   ],
   "source": [
    "assign = {}\n",
    "for idx, x in enumerate(goal):\n",
    "    for y in x:\n",
    "        assign[y] = idx\n",
    "new_labels = []\n",
    "for label in labels:\n",
    "    new_labels.append(assign[label])\n",
    "sns.histplot(x=new_labels)\n",
    "plt.show()"
   ]
  },
  {
   "cell_type": "code",
   "execution_count": 6,
   "metadata": {},
   "outputs": [
    {
     "name": "stdout",
     "output_type": "stream",
     "text": [
      "Found 4549 files belonging to 41 classes.\n",
      "Using 3640 files for training.\n",
      "Found 4549 files belonging to 41 classes.\n",
      "Using 909 files for validation.\n"
     ]
    }
   ],
   "source": [
    "train_ds = tf.keras.preprocessing.image_dataset_from_directory(\n",
    "    directory,\n",
    "    validation_split=validation_split,\n",
    "    subset='training',\n",
    "    seed=seed,\n",
    "    image_size=image_size,\n",
    "    batch_size=batch_size,\n",
    "    labels=new_labels,\n",
    "    shuffle=True,\n",
    ")\n",
    "val_ds = tf.keras.preprocessing.image_dataset_from_directory(\n",
    "    directory,\n",
    "    validation_split=validation_split,\n",
    "    subset='validation',\n",
    "    seed=seed,\n",
    "    image_size=image_size,\n",
    "    batch_size=batch_size,\n",
    "    labels=new_labels,\n",
    "    shuffle=True,\n",
    ")"
   ]
  },
  {
   "cell_type": "code",
   "execution_count": 7,
   "metadata": {},
   "outputs": [
    {
     "name": "stdout",
     "output_type": "stream",
     "text": [
      "Model: \"sequential\"\n",
      "_________________________________________________________________\n",
      " Layer (type)                Output Shape              Param #   \n",
      "=================================================================\n",
      " conv2d (Conv2D)             (None, 200, 200, 25)      1900      \n",
      "                                                                 \n",
      " max_pooling2d (MaxPooling2D  (None, 100, 100, 25)     0         \n",
      " )                                                               \n",
      "                                                                 \n",
      " conv2d_1 (Conv2D)           (None, 50, 50, 50)        31300     \n",
      "                                                                 \n",
      " max_pooling2d_1 (MaxPooling  (None, 25, 25, 50)       0         \n",
      " 2D)                                                             \n",
      "                                                                 \n",
      " batch_normalization (BatchN  (None, 25, 25, 50)       200       \n",
      " ormalization)                                                   \n",
      "                                                                 \n",
      " conv2d_2 (Conv2D)           (None, 13, 13, 70)        31570     \n",
      "                                                                 \n",
      " max_pooling2d_2 (MaxPooling  (None, 6, 6, 70)         0         \n",
      " 2D)                                                             \n",
      "                                                                 \n",
      " batch_normalization_1 (Batc  (None, 6, 6, 70)         280       \n",
      " hNormalization)                                                 \n",
      "                                                                 \n",
      " flatten (Flatten)           (None, 2520)              0         \n",
      "                                                                 \n",
      " dense (Dense)               (None, 32)                80672     \n",
      "                                                                 \n",
      " dense_1 (Dense)             (None, 16)                528       \n",
      "                                                                 \n",
      " dropout (Dropout)           (None, 16)                0         \n",
      "                                                                 \n",
      " dense_2 (Dense)             (None, 6)                 102       \n",
      "                                                                 \n",
      "=================================================================\n",
      "Total params: 146,552\n",
      "Trainable params: 146,312\n",
      "Non-trainable params: 240\n",
      "_________________________________________________________________\n",
      "Epoch 1/10\n",
      "228/228 [==============================] - 5s 13ms/step - loss: 1.8211 - accuracy: 0.1975 - val_loss: 11.0529 - val_accuracy: 0.2156\n",
      "Epoch 2/10\n",
      "228/228 [==============================] - 3s 12ms/step - loss: 1.7018 - accuracy: 0.2192 - val_loss: 1.6697 - val_accuracy: 0.2145\n",
      "Epoch 3/10\n",
      "228/228 [==============================] - 3s 12ms/step - loss: 1.6538 - accuracy: 0.2299 - val_loss: 1.6226 - val_accuracy: 0.2343\n",
      "Epoch 4/10\n",
      "228/228 [==============================] - 3s 12ms/step - loss: 1.6371 - accuracy: 0.2214 - val_loss: 1.6180 - val_accuracy: 0.2321\n",
      "Epoch 5/10\n",
      "228/228 [==============================] - 3s 12ms/step - loss: 1.6283 - accuracy: 0.2250 - val_loss: 1.6265 - val_accuracy: 0.2200\n",
      "Epoch 6/10\n",
      "228/228 [==============================] - 3s 12ms/step - loss: 1.6230 - accuracy: 0.2288 - val_loss: 1.6159 - val_accuracy: 0.2244\n",
      "Epoch 7/10\n",
      "228/228 [==============================] - 3s 12ms/step - loss: 1.6147 - accuracy: 0.2231 - val_loss: 1.6148 - val_accuracy: 0.2299\n",
      "Epoch 8/10\n",
      "228/228 [==============================] - 3s 12ms/step - loss: 1.6164 - accuracy: 0.2302 - val_loss: 1.6091 - val_accuracy: 0.2310\n",
      "Epoch 9/10\n",
      "228/228 [==============================] - 3s 12ms/step - loss: 1.6118 - accuracy: 0.2382 - val_loss: 1.6240 - val_accuracy: 0.2189\n",
      "Epoch 10/10\n",
      "228/228 [==============================] - 3s 12ms/step - loss: 1.6075 - accuracy: 0.2297 - val_loss: 1.6566 - val_accuracy: 0.2156\n"
     ]
    },
    {
     "data": {
      "text/plain": [
       "<keras.callbacks.History at 0x235992eac70>"
      ]
     },
     "execution_count": 7,
     "metadata": {},
     "output_type": "execute_result"
    }
   ],
   "source": [
    "model = Sequential()\n",
    "model.add(layers.InputLayer(input_shape=(200, 200, 3)))\n",
    "\n",
    "# 1st conv block\n",
    "model.add(layers.Conv2D(25, (5, 5), activation='relu', strides=(1, 1), padding='same'))\n",
    "model.add(layers.MaxPool2D(pool_size=(2, 2), padding='same'))\n",
    "# 2nd conv block\n",
    "model.add(layers.Conv2D(50, (5, 5), activation='relu', strides=(2, 2), padding='same'))\n",
    "model.add(layers.MaxPool2D(pool_size=(2, 2), padding='same'))\n",
    "model.add(layers.BatchNormalization())\n",
    "# 3rd conv block\n",
    "model.add(layers.Conv2D(70, (3, 3), activation='relu', strides=(2, 2), padding='same'))\n",
    "model.add(layers.MaxPool2D(pool_size=(2, 2), padding='valid'))\n",
    "model.add(layers.BatchNormalization())\n",
    "# ANN block\n",
    "model.add(layers.Flatten())\n",
    "model.add(layers.Dense(units=32, activation='relu'))\n",
    "model.add(layers.Dense(units=16, activation='relu'))\n",
    "model.add(layers.Dropout(0.25))\n",
    "# output layer\n",
    "model.add(layers.Dense(units=6, activation='softmax'))\n",
    "model.summary()\n",
    "\n",
    "opt = Adam(learning_rate=1e-3, decay=1e-3 / 200)\n",
    "model.compile(optimizer=opt,loss=tf.keras.losses.SparseCategoricalCrossentropy(from_logits=False),metrics=['accuracy'])\n",
    "\n",
    "# train the model\n",
    "model.fit(train_ds,epochs=10,validation_data=val_ds)"
   ]
  },
  {
   "cell_type": "code",
   "execution_count": null,
   "metadata": {},
   "outputs": [],
   "source": []
  }
 ],
 "metadata": {
  "interpreter": {
   "hash": "c2ab331ed9f1f7150fb7ff71f78d22457345ce6bc704fab419f086a2a4dd6854"
  },
  "kernelspec": {
   "display_name": "Python 3 (ipykernel)",
   "language": "python",
   "name": "python3"
  },
  "language_info": {
   "codemirror_mode": {
    "name": "ipython",
    "version": 3
   },
   "file_extension": ".py",
   "mimetype": "text/x-python",
   "name": "python",
   "nbconvert_exporter": "python",
   "pygments_lexer": "ipython3",
   "version": "3.9.7"
  }
 },
 "nbformat": 4,
 "nbformat_minor": 4
}
