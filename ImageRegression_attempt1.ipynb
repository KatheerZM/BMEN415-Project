{
 "cells": [
  {
   "cell_type": "code",
   "execution_count": 4,
   "metadata": {},
   "outputs": [],
   "source": [
    "import matplotlib.pyplot as plt\n",
    "import numpy as np\n",
    "import os\n",
    "import PIL\n",
    "import tensorflow as tf\n",
    "from tensorflow.keras.datasets import mnist\n",
    "from tensorflow.keras import models\n",
    "\n",
    "\n",
    "from tensorflow import keras\n",
    "from tensorflow.keras import layers\n",
    "from tensorflow.keras.models import Sequential\n",
    "from tensorflow.keras.optimizers import Adam\n"
   ]
  },
  {
   "cell_type": "code",
   "execution_count": 12,
   "metadata": {},
   "outputs": [
    {
     "name": "stdout",
     "output_type": "stream",
     "text": [
      "Found 2131 files belonging to 4 classes.\n",
      "Found 2131 files belonging to 4 classes.\n",
      "Using 1705 files for training.\n",
      "Found 2131 files belonging to 4 classes.\n",
      "Using 426 files for validation.\n"
     ]
    }
   ],
   "source": [
    "directory = \"/Users/abhar/Downloads/face_age/face_age_image\" \n",
    "\n",
    "dataset = tf.keras.utils.image_dataset_from_directory(\n",
    "        directory,\n",
    "        labels=\"inferred\",\n",
    "        label_mode=\"int\",\n",
    "        class_names=None,\n",
    "        color_mode=\"rgb\",\n",
    "        batch_size=16,\n",
    "        image_size=(200, 200),\n",
    "\n",
    ")\n",
    "\n",
    "train_ds = tf.keras.utils.image_dataset_from_directory(directory,validation_split=0.2,subset=\"training\",seed = 42)\n",
    "validation_ds = tf.keras.utils.image_dataset_from_directory(directory,validation_split=0.2,subset=\"validation\",seed = 42)\n",
    "\n",
    "#testx_ds = tf.keras.utils.image_dataset_from_directory(directory,validation_split=0.3,subset=\"validation\",seed = 42)\n",
    "#testy_ds = tf.keras.utils.image_dataset_from_directory(directory,validation_split=0.3,subset=\"validation\",seed = 42)\n",
    "#print(dataset)\n",
    "\n",
    "#for i in dataset:\n",
    "    #print(i)\n",
    "\n",
    "num_classes = 51"
   ]
  },
  {
   "cell_type": "code",
   "execution_count": 18,
   "metadata": {},
   "outputs": [
    {
     "name": "stdout",
     "output_type": "stream",
     "text": [
      "Model: \"sequential_6\"\n",
      "_________________________________________________________________\n",
      "Layer (type)                 Output Shape              Param #   \n",
      "=================================================================\n",
      "conv2d_18 (Conv2D)           (None, 256, 256, 25)      1900      \n",
      "_________________________________________________________________\n",
      "max_pooling2d_18 (MaxPooling (None, 128, 128, 25)      0         \n",
      "_________________________________________________________________\n",
      "conv2d_19 (Conv2D)           (None, 64, 64, 50)        31300     \n",
      "_________________________________________________________________\n",
      "max_pooling2d_19 (MaxPooling (None, 32, 32, 50)        0         \n",
      "_________________________________________________________________\n",
      "batch_normalization_12 (Batc (None, 32, 32, 50)        200       \n",
      "_________________________________________________________________\n",
      "conv2d_20 (Conv2D)           (None, 16, 16, 70)        31570     \n",
      "_________________________________________________________________\n",
      "max_pooling2d_20 (MaxPooling (None, 8, 8, 70)          0         \n",
      "_________________________________________________________________\n",
      "batch_normalization_13 (Batc (None, 8, 8, 70)          280       \n",
      "_________________________________________________________________\n",
      "flatten_6 (Flatten)          (None, 4480)              0         \n",
      "_________________________________________________________________\n",
      "dense_18 (Dense)             (None, 4)                 17924     \n",
      "_________________________________________________________________\n",
      "dense_19 (Dense)             (None, 4)                 20        \n",
      "_________________________________________________________________\n",
      "dropout_6 (Dropout)          (None, 4)                 0         \n",
      "_________________________________________________________________\n",
      "dense_20 (Dense)             (None, 4)                 20        \n",
      "=================================================================\n",
      "Total params: 83,214\n",
      "Trainable params: 82,974\n",
      "Non-trainable params: 240\n",
      "_________________________________________________________________\n",
      "Epoch 1/2\n",
      "54/54 [==============================] - 81s 1s/step - loss: 1.3933 - accuracy: 0.5056 - val_loss: 4.7089 - val_accuracy: 0.1737\n",
      "Epoch 2/2\n",
      "54/54 [==============================] - 88s 2s/step - loss: 1.3491 - accuracy: 0.5343 - val_loss: 1.6896 - val_accuracy: 0.2559\n"
     ]
    },
    {
     "data": {
      "text/plain": [
       "array([[0.28384808, 0.24898487, 0.23519658, 0.23197044],\n",
       "       [0.30905464, 0.20258287, 0.3450294 , 0.14333308],\n",
       "       [0.2974826 , 0.22580555, 0.30645806, 0.17025378],\n",
       "       ...,\n",
       "       [0.16723065, 0.04663   , 0.77801615, 0.00812325],\n",
       "       [0.2893496 , 0.24280721, 0.25121272, 0.21663049],\n",
       "       [0.30917   , 0.15847611, 0.44334462, 0.08900923]], dtype=float32)"
      ]
     },
     "execution_count": 18,
     "metadata": {},
     "output_type": "execute_result"
    }
   ],
   "source": [
    "#Make model\n",
    "model = Sequential()\n",
    "model.add(layers.InputLayer(input_shape=(256, 256, 3)))\n",
    "\n",
    "# 1st conv block\n",
    "model.add(layers.Conv2D(25, (5, 5), activation='relu', strides=(1, 1), padding='same'))\n",
    "model.add(layers.MaxPool2D(pool_size=(2, 2), padding='same'))\n",
    "# 2nd conv block\n",
    "model.add(layers.Conv2D(50, (5, 5), activation='relu', strides=(2, 2), padding='same'))\n",
    "model.add(layers.MaxPool2D(pool_size=(2, 2), padding='same'))\n",
    "model.add(layers.BatchNormalization())\n",
    "# 3rd conv block\n",
    "model.add(layers.Conv2D(70, (3, 3), activation='relu', strides=(2, 2), padding='same'))\n",
    "model.add(layers.MaxPool2D(pool_size=(2, 2), padding='valid'))\n",
    "model.add(layers.BatchNormalization())\n",
    "# ANN block\n",
    "model.add(layers.Flatten())\n",
    "model.add(layers.Dense(units=num_classes, activation='relu'))\n",
    "model.add(layers.Dense(units=num_classes, activation='relu'))\n",
    "model.add(layers.Dropout(0.25))\n",
    "# output layer\n",
    "model.add(layers.Dense(units=num_classes, activation='softmax'))\n",
    "model.summary()\n",
    "\n",
    "opt = Adam(learning_rate=1e-3, decay=1e-3 / 200)\n",
    "model.compile(optimizer='adam',loss=\"sparse_categorical_crossentropy\",metrics=['accuracy'])\n",
    "\n",
    "# train the model\n",
    "im_model = model.fit(train_ds,epochs=50,validation_data=validation_ds,batch_size=8)\n",
    "\n",
    "\n"
   ]
  }
 ],
 "metadata": {
  "interpreter": {
   "hash": "c2ab331ed9f1f7150fb7ff71f78d22457345ce6bc704fab419f086a2a4dd6854"
  },
  "kernelspec": {
   "display_name": "Python 3.6.8 64-bit",
   "language": "python",
   "name": "python3"
  },
  "language_info": {
   "codemirror_mode": {
    "name": "ipython",
    "version": 3
   },
   "file_extension": ".py",
   "mimetype": "text/x-python",
   "name": "python",
   "nbconvert_exporter": "python",
   "pygments_lexer": "ipython3",
   "version": "3.6.8"
  },
  "orig_nbformat": 4
 },
 "nbformat": 4,
 "nbformat_minor": 2
}
