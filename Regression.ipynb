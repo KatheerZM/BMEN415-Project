{
 "cells": [
  {
   "cell_type": "code",
   "execution_count": 1,
   "id": "726012a0",
   "metadata": {},
   "outputs": [],
   "source": [
    "### Regression Dataset\n",
    "\n",
    "import pandas as pd\n",
    "import numpy as np\n",
    "\n",
    "# From scikit library:\n",
    "\n",
    "from sklearn.model_selection import train_test_split\n",
    "from sklearn.preprocessing import StandardScaler\n",
    "from sklearn.metrics import mean_absolute_percentage_error as mape\n",
    "from sklearn.metrics import mean_squared_error as mse\n",
    "from sklearn.metrics import r2_score as r2\n",
    "\n",
    "# Import data\n",
    "data_f = pd.read_csv(r'Volumetric_features.csv')\n",
    "#oHeaders = list(data_f.columns.values)\n",
    "#npData = data_f.to_numpy()\n",
    "\n",
    "# Split Data for set 1\n",
    "X = data_f.iloc[0:1221,1:139] # All columns except the target and first column (serial numbers)\n",
    "y = data_f.iloc[0:1221,139] # Target vector\n",
    "X_train, X_test, y_train, y_test = train_test_split(X,y) # Splits the data with 25% of the data set as the test set\n",
    "\n",
    "#Scale Data\n",
    "sc_X = StandardScaler()\n",
    "X_train = sc_X.fit_transform(X_train) # Fits the training data to the rest of the data, then scales it\n",
    "X_test = sc_X.transform(X_test) # Just scales the data"
   ]
  },
  {
   "cell_type": "code",
   "execution_count": 2,
   "id": "a444fe2b",
   "metadata": {},
   "outputs": [
    {
     "name": "stdout",
     "output_type": "stream",
     "text": [
      "0.019421208895507254\n",
      "6.241625816993464\n",
      "0.7576325981262213\n"
     ]
    }
   ],
   "source": [
    "# Regression Model 1: kNN with 4 neighbors\n",
    "\n",
    "from sklearn.neighbors import KNeighborsRegressor\n",
    "neigh = KNeighborsRegressor(n_neighbors = 4)\n",
    "neigh.fit(X_train,y_train)\n",
    "\n",
    "y_pred = neigh.predict(X_test)\n",
    "\n",
    "MAbsolutePerErr = mape(y_test,y_pred)\n",
    "print(MAbsolutePerErr)\n",
    "MSquareErr = mse(y_test,y_pred)\n",
    "print(MSquareErr)\n",
    "print(r2(y_test,y_pred))"
   ]
  },
  {
   "cell_type": "code",
   "execution_count": 3,
   "id": "225d8d42",
   "metadata": {},
   "outputs": [
    {
     "name": "stdout",
     "output_type": "stream",
     "text": [
      "0.02100596897366996\n",
      "6.003799019607843\n",
      "0.766867605905986\n"
     ]
    }
   ],
   "source": [
    "# Regression Model 2: Random Forest\n",
    "\n",
    "from sklearn.ensemble import RandomForestRegressor\n",
    "\n",
    "RandF = RandomForestRegressor(random_state = 0)\n",
    "RandF.fit(X_train,y_train)\n",
    "\n",
    "y_pred1 = RandF.predict(X_test)\n",
    "\n",
    "MAbsolutePerErr = mape(y_test,y_pred1)\n",
    "print(MAbsolutePerErr)\n",
    "MSquareErr = mse(y_test,y_pred1)\n",
    "print(MSquareErr)\n",
    "print(r2(y_test,y_pred1))"
   ]
  },
  {
   "cell_type": "code",
   "execution_count": 4,
   "id": "65cc1bcd",
   "metadata": {},
   "outputs": [
    {
     "name": "stdout",
     "output_type": "stream",
     "text": [
      "0.06194793721253095\n",
      "140.11209256880682\n",
      "-4.440666397294166\n"
     ]
    }
   ],
   "source": [
    "# Regression Model 3: Multi-Layer Perceptron\n",
    "\n",
    "from sklearn.neural_network import MLPRegressor\n",
    "\n",
    "MLP = MLPRegressor(random_state=1, max_iter = 2000)\n",
    "MLP.fit(X_train,y_train)\n",
    "\n",
    "y_pred2 = MLP.predict(X_test)\n",
    "\n",
    "MAbsolutePerErr = mape(y_test,y_pred2)\n",
    "print(MAbsolutePerErr)\n",
    "MSquareErr = mse(y_test,y_pred2)\n",
    "print(MSquareErr)\n",
    "print(r2(y_test,y_pred2))"
   ]
  },
  {
   "cell_type": "code",
   "execution_count": null,
   "id": "8a46f5ce",
   "metadata": {},
   "outputs": [],
   "source": []
  }
 ],
 "metadata": {
  "kernelspec": {
   "display_name": "Python 3 (ipykernel)",
   "language": "python",
   "name": "python3"
  },
  "language_info": {
   "codemirror_mode": {
    "name": "ipython",
    "version": 3
   },
   "file_extension": ".py",
   "mimetype": "text/x-python",
   "name": "python",
   "nbconvert_exporter": "python",
   "pygments_lexer": "ipython3",
   "version": "3.9.7"
  }
 },
 "nbformat": 4,
 "nbformat_minor": 5
}
