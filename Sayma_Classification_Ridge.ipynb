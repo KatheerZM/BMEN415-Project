{
 "cells": [
  {
   "cell_type": "code",
   "execution_count": 47,
   "id": "d0252e8e",
   "metadata": {},
   "outputs": [],
   "source": [
    "import numpy as np\n",
    "import pandas as pd\n",
    "import matplotlib.pyplot as plt\n",
    "import seaborn as sns\n",
    "\n",
    "from sklearn.model_selection import train_test_split\n",
    "\n",
    "data = pd.read_csv('fetal_health.csv')\n",
    "target_column = ['fetal_health']\n",
    "predictors = list(set(list(data.columns)) - set(target_column))\n",
    "data[predictors] = data[predictors]/data[predictors].max()\n",
    "\n",
    "X = data[predictors].values\n",
    "y = data[target_column].values\n",
    "\n",
    "xTrain, xTest, yTrain, yTest = train_test_split(X, y, test_size = 0.25, random_state = 42)\n",
    "xTrain, xTest, yTrain, yTest = train_test_split(X, y, test_size = 0.25, random_state = 42)\n"
   ]
  },
  {
   "cell_type": "code",
   "execution_count": 48,
   "id": "34139efe",
   "metadata": {},
   "outputs": [],
   "source": [
    "from sklearn.linear_model import RidgeClassifier\n",
    "ridge = RidgeClassifier()\n",
    "ridge.fit(xTrain, yTrain[:,0])\n",
    "yPred = ridge.predict(xTest)"
   ]
  },
  {
   "cell_type": "code",
   "execution_count": 49,
   "id": "a4e247ee",
   "metadata": {},
   "outputs": [
    {
     "name": "stdout",
     "output_type": "stream",
     "text": [
      "Accuracy: 0.8778195488721805\n"
     ]
    }
   ],
   "source": [
    "from sklearn import metrics\n",
    "print(\"Accuracy:\", metrics.accuracy_score(yTest, yPred))"
   ]
  },
  {
   "cell_type": "code",
   "execution_count": 50,
   "id": "c3634dbe",
   "metadata": {},
   "outputs": [
    {
     "name": "stdout",
     "output_type": "stream",
     "text": [
      "[[404   6   3]\n",
      " [ 37  42   3]\n",
      " [  7   9  21]]\n",
      "Accuracy: 0.8778195488721805\n"
     ]
    }
   ],
   "source": [
    "from sklearn.metrics import confusion_matrix\n",
    "cm = confusion_matrix(yTest, yPred)\n",
    "print(cm)\n",
    "\n",
    "from sklearn import metrics\n",
    "print(\"Accuracy:\", metrics.accuracy_score(yTest, yPred))"
   ]
  },
  {
   "cell_type": "code",
   "execution_count": 51,
   "id": "7f4380da",
   "metadata": {},
   "outputs": [
    {
     "name": "stdout",
     "output_type": "stream",
     "text": [
      "              precision    recall  f1-score   support\n",
      "\n",
      "         1.0       0.90      0.98      0.94       413\n",
      "         2.0       0.74      0.51      0.60        82\n",
      "         3.0       0.78      0.57      0.66        37\n",
      "\n",
      "    accuracy                           0.88       532\n",
      "   macro avg       0.81      0.69      0.73       532\n",
      "weighted avg       0.87      0.88      0.87       532\n",
      "\n"
     ]
    }
   ],
   "source": [
    "from sklearn.metrics import classification_report\n",
    "print (classification_report(yTest, yPred))"
   ]
  },
  {
   "cell_type": "code",
   "execution_count": null,
   "id": "aaffafc5",
   "metadata": {},
   "outputs": [],
   "source": []
  }
 ],
 "metadata": {
  "kernelspec": {
   "display_name": "Python 3 (ipykernel)",
   "language": "python",
   "name": "python3"
  },
  "language_info": {
   "codemirror_mode": {
    "name": "ipython",
    "version": 3
   },
   "file_extension": ".py",
   "mimetype": "text/x-python",
   "name": "python",
   "nbconvert_exporter": "python",
   "pygments_lexer": "ipython3",
   "version": "3.9.7"
  }
 },
 "nbformat": 4,
 "nbformat_minor": 5
}
