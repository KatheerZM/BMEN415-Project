{
 "cells": [
  {
   "cell_type": "code",
   "execution_count": 2,
   "id": "2bee3f03",
   "metadata": {},
   "outputs": [],
   "source": [
    "import numpy as np  # Importing NumPy library\n",
    "import pandas as pd  # Importing Pandas library\n",
    "import matplotlib.pyplot as plt  # Importing Matplotlib library's \"pyplot\" module\n",
    "import seaborn as sns  # Imorting Seaborn library\n",
    "\n",
    "from sklearn.model_selection import train_test_split \n",
    "from sklearn.model_selection import cross_val_predict  # For K-Fold Cross Validation\n",
    "from sklearn.metrics import r2_score  # For find accuracy with R2 Score\n",
    "from sklearn.metrics import mean_squared_error  # For MSE\n",
    "from math import sqrt  # For squareroot operation"
   ]
  },
  {
   "cell_type": "code",
   "execution_count": 3,
   "id": "5d062860",
   "metadata": {},
   "outputs": [],
   "source": [
    "data = pd.read_csv(r'C:\\Users\\Hoang Phuong\\OneDrive - University of Calgary\\Win 2022 3rd year\\Bmen 415\\Volumetric_features.csv')"
   ]
  },
  {
   "cell_type": "code",
   "execution_count": 4,
   "id": "dfc3c6ea",
   "metadata": {},
   "outputs": [
    {
     "data": {
      "text/plain": [
       "1215    78\n",
       "1216    79\n",
       "1217    80\n",
       "1218    81\n",
       "1219    82\n",
       "Name: Age, dtype: int64"
      ]
     },
     "execution_count": 4,
     "metadata": {},
     "output_type": "execute_result"
    }
   ],
   "source": [
    "# Data split\n",
    "X = data.iloc[1:1220,1:139]\n",
    "y =  data.iloc[1:1220:,139]\n",
    "\n",
    "x_train, x_test, y_train, y_test = train_test_split(X, y, test_size=0.25, random_state=42)\n",
    "\n",
    "# data.info()\n",
    "\n",
    "# data.head()\n",
    "\n",
    "# data.tail()\n",
    "\n",
    "# data.describe()\n",
    "\n",
    "y.tail()"
   ]
  },
  {
   "cell_type": "code",
   "execution_count": 5,
   "id": "2f0d09db",
   "metadata": {},
   "outputs": [
    {
     "name": "stdout",
     "output_type": "stream",
     "text": [
      "Testing Accuracy for Multiple Linear Regression Model:  63.223780311781084\n",
      "RMSE for Testing Data:  2.9158971889802103\n",
      "Mean Absolute Error for Testing Data: 2.21 degrees.\n"
     ]
    }
   ],
   "source": [
    "from sklearn.linear_model import LinearRegression\n",
    "\n",
    "multiple_linear_reg = LinearRegression(fit_intercept=False)\n",
    "multiple_linear_reg.fit(x_train, y_train)\n",
    "\n",
    "y_pred_MLR_train = multiple_linear_reg.predict(x_train)\n",
    "y_pred_MLR_test = multiple_linear_reg.predict(x_test)\n",
    "error = abs(y_pred_MLR_test - y_test)\n",
    "\n",
    "accuracy_MLR_test = r2_score(y_test, y_pred_MLR_test)\n",
    "print(\"Testing Accuracy for Multiple Linear Regression Model: \", accuracy_MLR_test*100)\n",
    "\n",
    "RMSE_MLR_test = sqrt(mean_squared_error(y_test, y_pred_MLR_test))\n",
    "print(\"RMSE for Testing Data: \", RMSE_MLR_test)\n",
    "\n",
    "error = abs(y_pred_MLR_test - y_test)\n",
    "print('Mean Absolute Error for Testing Data:', round(np.mean(error), 2), 'degrees.')"
   ]
  },
  {
   "cell_type": "code",
   "execution_count": 8,
   "id": "da83ad29",
   "metadata": {},
   "outputs": [
    {
     "name": "stdout",
     "output_type": "stream",
     "text": [
      "Testing Accuracy for Random Forest Model:  66.55839630290572\n",
      "RMSE for Testing Data:  2.7805596270730404\n",
      "Mean Absolute Error for Testing Data: 1.69 degrees.\n"
     ]
    }
   ],
   "source": [
    "from sklearn.neighbors import KNeighborsRegressor\n",
    "\n",
    "knn = KNeighborsRegressor(n_neighbors=3)\n",
    "knn.fit(x_train, y_train)\n",
    "\n",
    "y_pred_knn_test = knn.predict(x_test)\n",
    "\n",
    "accuracy_knn_test = r2_score(y_test, y_pred_knn_test)\n",
    "print(\"Testing Accuracy for Random Forest Model: \", accuracy_knn_test*100)\n",
    "\n",
    "RMSE_knn_test = sqrt(mean_squared_error(y_test, y_pred_knn_test))\n",
    "print(\"RMSE for Testing Data: \", RMSE_knn_test)\n",
    "\n",
    "error = abs(y_pred_knn_test - y_test)\n",
    "print('Mean Absolute Error for Testing Data:', round(np.mean(error), 2), 'degrees.')"
   ]
  },
  {
   "cell_type": "code",
   "execution_count": 9,
   "id": "67d04abd",
   "metadata": {},
   "outputs": [
    {
     "name": "stdout",
     "output_type": "stream",
     "text": [
      "Testing Accuracy for Random Forest Model:  82.83008509703416\n",
      "RMSE for Testing Data:  1.9923825806157272\n",
      "Mean Absolute Error for Testing Data: 1.54 degrees.\n"
     ]
    }
   ],
   "source": [
    "from sklearn.ensemble import RandomForestRegressor\n",
    "\n",
    "randomforest = RandomForestRegressor(n_estimators = 1000, random_state = 42)\n",
    "randomforest.fit(x_train, y_train)\n",
    "\n",
    "y_pred_randomforest_test = randomforest.predict(x_test)\n",
    "\n",
    "accuracy_randomforest_test = r2_score(y_test, y_pred_randomforest_test)\n",
    "print(\"Testing Accuracy for Random Forest Model: \", accuracy_randomforest_test*100)\n",
    "\n",
    "RMSE_randomforest_test = sqrt(mean_squared_error(y_test, y_pred_randomforest_test))\n",
    "print(\"RMSE for Testing Data: \", RMSE_randomforest_test)\n",
    "\n",
    "error = abs(y_pred_randomforest_test - y_test)\n",
    "print('Mean Absolute Error for Testing Data:', round(np.mean(error), 2), 'degrees.')"
   ]
  },
  {
   "cell_type": "code",
   "execution_count": null,
   "id": "dbc93842",
   "metadata": {},
   "outputs": [],
   "source": []
  }
 ],
 "metadata": {
  "kernelspec": {
   "display_name": "Python 3 (ipykernel)",
   "language": "python",
   "name": "python3"
  },
  "language_info": {
   "codemirror_mode": {
    "name": "ipython",
    "version": 3
   },
   "file_extension": ".py",
   "mimetype": "text/x-python",
   "name": "python",
   "nbconvert_exporter": "python",
   "pygments_lexer": "ipython3",
   "version": "3.9.7"
  }
 },
 "nbformat": 4,
 "nbformat_minor": 5
}
