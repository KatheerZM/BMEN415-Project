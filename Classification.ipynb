{
 "cells": [
  {
   "cell_type": "code",
   "execution_count": 5,
   "id": "27f92503",
   "metadata": {},
   "outputs": [],
   "source": [
    "### Classification Dataset\n",
    "\n",
    "import pandas as pd\n",
    "import numpy as np\n",
    "\n",
    "# From scikit library:\n",
    "\n",
    "from sklearn.model_selection import train_test_split\n",
    "from sklearn.preprocessing import StandardScaler\n",
    "from sklearn.metrics import f1_score\n",
    "from sklearn.metrics import accuracy_score\n",
    "from sklearn.metrics import confusion_matrix\n",
    "\n",
    "from sklearn.ensemble import ExtraTreesClassifier\n",
    "from sklearn.feature_selection import SelectFromModel\n",
    "\n",
    "# Import data\n",
    "data_f = pd.read_csv(r'Dataset/fetal_health.csv')\n",
    "#oHeaders = list(data_f.columns.values)\n",
    "#npData = data_f.to_numpy()\n",
    "\n",
    "# Split Data\n",
    "X = data_f.iloc[:,0:21] # All columns except the target\n",
    "y = data_f.iloc[:,21] # Target vector\n",
    "\n",
    "#Feature Selection \n",
    "\n",
    "FeatureSelection = ExtraTreesClassifier(n_estimators = 20)\n",
    "FeatureSelection = FeatureSelection.fit(X,y)\n",
    "FeatureSelection.feature_importances_\n",
    "TheModel = SelectFromModel(FeatureSelection,prefit = True)\n",
    "X_new = TheModel.transform(X)\n",
    "\n",
    "X_train, X_test, y_train, y_test = train_test_split(X_new,y,test_size = .2) # Splits the data with 25% of the data set as the test set\n",
    "\n",
    "#Scale Data\n",
    "sc_X = StandardScaler()\n",
    "X_train = sc_X.fit_transform(X_train) # Fits the training data to the rest of the data, then scales it\n",
    "X_test = sc_X.transform(X_test) # Just scales the data"
   ]
  },
  {
   "cell_type": "code",
   "execution_count": 6,
   "id": "1f7193b0",
   "metadata": {},
   "outputs": [
    {
     "name": "stdout",
     "output_type": "stream",
     "text": [
      "[[332   3   1]\n",
      " [ 28  23   1]\n",
      " [  2   6  30]]\n",
      "0.903755868544601\n"
     ]
    }
   ],
   "source": [
    "## Model 1: kNN with k = 10\n",
    "\n",
    "from sklearn.neighbors import KNeighborsClassifier\n",
    "\n",
    "# Develop the model\n",
    "\n",
    "KNNClassifier = KNeighborsClassifier(n_neighbors=10)\n",
    "KNNClassifier.fit(X_train,y_train)\n",
    "\n",
    "# Validate the model\n",
    "\n",
    "KNNy_pred = KNNClassifier.predict(X_test)\n",
    "\n",
    "KNNcm = confusion_matrix(y_test,KNNy_pred)\n",
    "print(KNNcm)\n",
    "print(accuracy_score(y_test,KNNy_pred))\n"
   ]
  },
  {
   "cell_type": "code",
   "execution_count": 7,
   "id": "1afdd4a8",
   "metadata": {},
   "outputs": [
    {
     "name": "stdout",
     "output_type": "stream",
     "text": [
      "[[335   1   0]\n",
      " [ 12  40   0]\n",
      " [  0   3  35]]\n",
      "0.9624413145539906\n"
     ]
    }
   ],
   "source": [
    "## Model 2: Random Forest\n",
    "\n",
    "from sklearn.ensemble import RandomForestClassifier\n",
    "\n",
    "# Develop the model\n",
    "\n",
    "RFClassifier = RandomForestClassifier(random_state=0)\n",
    "RFClassifier.fit(X_train,y_train)\n",
    "\n",
    "# Validate the model\n",
    "\n",
    "RFy_pred = RFClassifier.predict(X_test)\n",
    "\n",
    "RFcm = confusion_matrix(y_test,RFy_pred)\n",
    "print(RFcm)\n",
    "print(accuracy_score(y_test,RFy_pred))"
   ]
  },
  {
   "cell_type": "code",
   "execution_count": null,
   "id": "a08300ab",
   "metadata": {},
   "outputs": [],
   "source": [
    "## Model 3: Multi-Layer Perceptron\n",
    "\n",
    "from sklearn.neural_network import MLPClassifier\n",
    "\n",
    "# Develop the model\n",
    "\n",
    "MLPC = MLPClassifier(max_iter = 2000, random_state=1)\n",
    "MLPC.fit(X_train,y_train)\n",
    "\n",
    "# Validate the model\n",
    "\n",
    "MLPy_pred = MLPC.predict(X_test)\n",
    "\n",
    "MLPcm = confusion_matrix(y_test,MLPy_pred)\n",
    "print(MLPcm)\n",
    "print(accuracy_score(y_test,MLPy_pred))"
   ]
  },
  {
   "cell_type": "code",
   "execution_count": null,
   "id": "9c0519c8",
   "metadata": {},
   "outputs": [],
   "source": []
  },
  {
   "cell_type": "code",
   "execution_count": null,
   "id": "8e627973",
   "metadata": {},
   "outputs": [],
   "source": []
  },
  {
   "cell_type": "code",
   "execution_count": null,
   "id": "8e83d4da",
   "metadata": {},
   "outputs": [],
   "source": []
  },
  {
   "cell_type": "code",
   "execution_count": null,
   "id": "b262da10",
   "metadata": {},
   "outputs": [],
   "source": []
  }
 ],
 "metadata": {
  "kernelspec": {
   "display_name": "Python 3 (ipykernel)",
   "language": "python",
   "name": "python3"
  },
  "language_info": {
   "codemirror_mode": {
    "name": "ipython",
    "version": 3
   },
   "file_extension": ".py",
   "mimetype": "text/x-python",
   "name": "python",
   "nbconvert_exporter": "python",
   "pygments_lexer": "ipython3",
   "version": "3.9.7"
  }
 },
 "nbformat": 4,
 "nbformat_minor": 5
}
