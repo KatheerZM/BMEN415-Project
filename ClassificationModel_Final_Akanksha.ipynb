{
 "cells": [
  {
   "cell_type": "code",
   "execution_count": 22,
   "metadata": {},
   "outputs": [
    {
     "data": {
      "text/plain": [
       "(2126, 22)"
      ]
     },
     "execution_count": 22,
     "metadata": {},
     "output_type": "execute_result"
    }
   ],
   "source": [
    "from sklearn import svm\n",
    "import numpy as np\n",
    "import pandas as pd\n",
    "\n",
    "#Import dataset\n",
    "FetalHealthDataSet = pd.read_csv(r'C:\\Users\\abhar\\Downloads\\fetal_health.csv')\n",
    "FetalHealthDataSet.shape"
   ]
  },
  {
   "cell_type": "code",
   "execution_count": 23,
   "metadata": {},
   "outputs": [],
   "source": [
    "X = FetalHealthDataSet.drop(['fetal_health'],axis = 1)\n",
    "Y = FetalHealthDataSet.fetal_health.values"
   ]
  },
  {
   "cell_type": "code",
   "execution_count": 24,
   "metadata": {},
   "outputs": [],
   "source": [
    "import matplotlib.pyplot as plt\n",
    "from sklearn.model_selection import train_test_split\n",
    "from sklearn.discriminant_analysis import LinearDiscriminantAnalysis\n",
    "import seaborn as sns\n",
    "from sklearn.ensemble import ExtraTreesClassifier\n",
    "from sklearn.feature_selection import SelectFromModel\n",
    "from sklearn.metrics import confusion_matrix\n",
    "from sklearn.tree import DecisionTreeClassifier\n",
    "from sklearn.preprocessing import MinMaxScaler, StandardScaler\n",
    "from sklearn.metrics import accuracy_score\n",
    "import seaborn as sns\n",
    "from sklearn import svm"
   ]
  },
  {
   "cell_type": "code",
   "execution_count": 25,
   "metadata": {},
   "outputs": [
    {
     "data": {
      "text/plain": [
       "(2126, 10)"
      ]
     },
     "execution_count": 25,
     "metadata": {},
     "output_type": "execute_result"
    }
   ],
   "source": [
    "#Feature Selection \n",
    "X.shape\n",
    "FeatureSelection = ExtraTreesClassifier(n_estimators = 20)\n",
    "FeatureSelection = FeatureSelection.fit(X,Y)\n",
    "FeatureSelection.feature_importances_\n",
    "TheModel = SelectFromModel(FeatureSelection,prefit = True)\n",
    "X_new = TheModel.transform(X)\n",
    "X_new.shape"
   ]
  },
  {
   "cell_type": "code",
   "execution_count": 26,
   "metadata": {},
   "outputs": [],
   "source": [
    "#Scale features \n",
    "X_train, X_test, Y_train, Y_test = train_test_split(X_new, Y, test_size=0.2)\n",
    "scaler = StandardScaler()\n",
    "X_train_scaled = scaler.fit_transform(X_train)\n",
    "X_test_scaled = scaler.transform(X_test)"
   ]
  },
  {
   "cell_type": "code",
   "execution_count": 27,
   "metadata": {},
   "outputs": [
    {
     "name": "stdout",
     "output_type": "stream",
     "text": [
      "The accuracy of this model is: 0.8708920187793427\n",
      "[[305  13   3]\n",
      " [ 24  39   3]\n",
      " [  5   7  27]]\n"
     ]
    },
    {
     "data": {
      "text/plain": [
       "Text(33.0, 0.5, 'True')"
      ]
     },
     "execution_count": 27,
     "metadata": {},
     "output_type": "execute_result"
    },
    {
     "data": {
      "image/png": "[encoded data removed]",
      "text/plain": [
       "<Figure size 432x288 with 2 Axes>"
      ]
     },
     "metadata": {
      "needs_background": "light"
     },
     "output_type": "display_data"
    }
   ],
   "source": [
    "#Linear Discriminant Analysis\n",
    "LDA_classification = LinearDiscriminantAnalysis()\n",
    "LDA_classification.fit(X_train_scaled, Y_train)\n",
    "LDA_classification.predict(X_test_scaled)\n",
    "print('The accuracy of this model is: {}'.format(accuracy_score(Y_test,LDA_classification.predict(X_test_scaled))))\n",
    "\n",
    "cm_LDA = confusion_matrix(Y_test,LDA_classification.predict(X_test_scaled))\n",
    "print(cm_LDA)\n",
    "\n",
    "cm_LDA_df = pd.DataFrame(cm_LDA,index = ['1','2','3'], columns = ['1','2','3'])\n",
    "\n",
    "plt.figure(figsize=(6,4))\n",
    "sns.heatmap(cm_LDA_df, annot=True)\n",
    "plt.xlabel(\"Predict\")\n",
    "plt.ylabel(\"True\")"
   ]
  },
  {
   "cell_type": "code",
   "execution_count": 28,
   "metadata": {},
   "outputs": [
    {
     "name": "stdout",
     "output_type": "stream",
     "text": [
      "The accuracy of this model is: 0.9131455399061033\n",
      "[[305  14   2]\n",
      " [ 13  50   3]\n",
      " [  2   3  34]]\n"
     ]
    },
    {
     "data": {
      "text/plain": [
       "Text(33.0, 0.5, 'True')"
      ]
     },
     "execution_count": 28,
     "metadata": {},
     "output_type": "execute_result"
    },
    {
     "data": {
      "image/png": "[encoded data removed]",
      "text/plain": [
       "<Figure size 432x288 with 2 Axes>"
      ]
     },
     "metadata": {
      "needs_background": "light"
     },
     "output_type": "display_data"
    }
   ],
   "source": [
    "#Decision Tree Model \n",
    "DTree = DecisionTreeClassifier() \n",
    "DTree.fit(X_train_scaled,Y_train)\n",
    "Y_Dt = DTree.predict(X_test_scaled)\n",
    "print('The accuracy of this model is: {}'.format(accuracy_score(Y_test, Y_Dt)))\n",
    "\n",
    "cm_DT = confusion_matrix(Y_test,Y_Dt)\n",
    "print(cm_DT)\n",
    "\n",
    "cm_DT_df = pd.DataFrame(cm_DT,index = ['1','2','3'], columns = ['1','2','3'])\n",
    "\n",
    "plt.figure(figsize=(6,4))\n",
    "sns.heatmap(cm_DT_df, annot=True)\n",
    "plt.xlabel(\"Predict\")\n",
    "plt.ylabel(\"True\")\n"
   ]
  },
  {
   "cell_type": "code",
   "execution_count": 29,
   "metadata": {},
   "outputs": [
    {
     "name": "stdout",
     "output_type": "stream",
     "text": [
      "The accuracy of this model is: 0.8943661971830986\n",
      "[[309  11   1]\n",
      " [ 20  42   4]\n",
      " [  4   5  30]]\n"
     ]
    },
    {
     "data": {
      "text/plain": [
       "Text(33.0, 0.5, 'True')"
      ]
     },
     "execution_count": 29,
     "metadata": {},
     "output_type": "execute_result"
    },
    {
     "data": {
      "image/png": "[encoded data removed]",
      "text/plain": [
       "<Figure size 432x288 with 2 Axes>"
      ]
     },
     "metadata": {
      "needs_background": "light"
     },
     "output_type": "display_data"
    }
   ],
   "source": [
    "#SVM\n",
    "\n",
    "SVM_class = svm.SVC(kernel='linear')\n",
    "SVM_class.fit(X_train_scaled,Y_train)\n",
    "Y_SVM_pred = SVM_class.predict(X_test_scaled)\n",
    "print('The accuracy of this model is: {}'.format(accuracy_score(Y_test, Y_SVM_pred)))\n",
    "\n",
    "cm_SVM = confusion_matrix(Y_test,Y_SVM_pred)\n",
    "print(cm_SVM)\n",
    "\n",
    "cm_SVM_df = pd.DataFrame(cm_SVM,index = ['1','2','3'], columns = ['1','2','3'])\n",
    "\n",
    "plt.figure(figsize=(6,4))\n",
    "sns.heatmap(cm_SVM_df, annot=True)\n",
    "plt.xlabel(\"Predict\")\n",
    "plt.ylabel(\"True\")"
   ]
  }
 ],
 "metadata": {
  "interpreter": {
   "hash": "c2ab331ed9f1f7150fb7ff71f78d22457345ce6bc704fab419f086a2a4dd6854"
  },
  "kernelspec": {
   "display_name": "Python (myenv)",
   "language": "python",
   "name": "python3"
  },
  "language_info": {
   "codemirror_mode": {
    "name": "ipython",
    "version": 3
   },
   "file_extension": ".py",
   "mimetype": "text/x-python",
   "name": "python",
   "nbconvert_exporter": "python",
   "pygments_lexer": "ipython3",
   "version": "3.6.8"
  },
  "orig_nbformat": 4
 },
 "nbformat": 4,
 "nbformat_minor": 2
}
